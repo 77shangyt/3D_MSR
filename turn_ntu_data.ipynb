{
 "cells": [
  {
   "cell_type": "code",
   "execution_count": 1,
   "id": "14ad01ee-2e0b-42fa-bc02-2ba1e60d35df",
   "metadata": {
    "tags": []
   },
   "outputs": [
    {
     "name": "stdout",
     "output_type": "stream",
     "text": [
      "2.0.0+cu118\n"
     ]
    }
   ],
   "source": [
    "import torch \n",
    "print(torch.__version__)"
   ]
  },
  {
   "cell_type": "code",
   "execution_count": 2,
   "id": "a5328262-882d-4db3-ad45-dcea5630964e",
   "metadata": {
    "tags": []
   },
   "outputs": [],
   "source": [
    "import os \n",
    "import tqdm\n",
    "import imageio\n",
    "import numpy as np\n",
    "import time\n",
    "import random\n",
    "import math\n",
    "import scipy.io as sio\n",
    "from PIL import Image#"
   ]
  },
  {
   "cell_type": "code",
   "execution_count": 3,
   "id": "79b15c59-decc-490d-81ac-b00336d2e0af",
   "metadata": {
    "tags": []
   },
   "outputs": [],
   "source": [
    "fx = 365.481\n",
    "fy = 365.481\n",
    "cx = 257.346\n",
    "cy = 210.347\n",
    " \n",
    "\n",
    "SAMPLE_NUM = 2048 # 2048\n",
    "fps_sample_num=24 # 512\n",
    "K = 20  # max frame limit for temporal rank\n",
    "\n",
    "save_path = '4DV/train_T/T'\n",
    "\n",
    "try:\n",
    "    os.makedirs(save_path)\n",
    "except OSError:\n",
    "    pass\n",
    "\n",
    "def main():\n",
    "    data_path = 'train_data_pointnpy'  #'train_data_pointnpy'\n",
    "    sub_Files = os.listdir(data_path)\n",
    "    sub_Files.sort()\n",
    "    print(sub_Files)\n",
    "\n",
    "    for s_fileName in sub_Files[1:]:#确认Drik文件           #lx#Traverse 17 settings folders\n",
    "        print(s_fileName)\n",
    "        videoPath = os.path.join(data_path, s_fileName)\n",
    "        #print(videoPath)\n",
    "        if os.path.isdir(videoPath):#lx#Determine whether it is a directory\n",
    "                #print(s_fileName)\n",
    "                video_Files = os.listdir(videoPath)\n",
    "                video_Files.sort()\n",
    "                #print(video_Files)\n",
    "                video_index=0\n",
    "                video_num=len(video_Files[1:])\n",
    "                #print(video_num)\n",
    "                \n",
    "                for video_FileName in video_Files[1:]:#lx#Traverse the sample folder\n",
    "                    #print(video_FileName)\n",
    "                    video_index=video_index+1\n",
    "\n",
    "                    filename = video_FileName +'.npy'\n",
    "                    file = os.path.join(save_path, filename)\n",
    "                    #print(file)\n",
    "                    if os.path.isfile(file):\n",
    "                        continue\n",
    "                    \n",
    "                    pointPath = os.path.join(videoPath,video_FileName)\n",
    "                    imgNames = os.listdir(pointPath)\n",
    "                    imgNames.sort()\n",
    "                    print(len(imgNames))\n",
    "                  \n",
    "                    #确定合并帧\n",
    "                    m=len(imgNames)\n",
    "                    s=int(m/fps_sample_num)\n",
    "                    n=list(range(1,m,s))\n",
    "                    l_now=len(n)\n",
    "                    dele=0\n",
    "                    while l_now>24:\n",
    "                        if(dele==0):\n",
    "                            n=n[1:]\n",
    "                            l_now=l_now-1\n",
    "                            dele=1\n",
    "                        else:\n",
    "                            n=n[:-1]\n",
    "                            l_now=l_now-1\n",
    "                            dele=0\n",
    "                    \n",
    "                    #合并帧\n",
    "                    temp = np.zeros([24,2048,3])\n",
    "                    index=0\n",
    "                    for i in n:\n",
    "                        #print(imgNames[i])\n",
    "                        each=imgNames[i]\n",
    "                        real_path= os.path.join(videoPath,video_FileName,each)\n",
    "                        #print(real_path)\n",
    "                        real_data = np.load(real_path, allow_pickle=True)  # 类型是numpy array\n",
    "                        for j in range(2048):\n",
    "                            #print(index)\n",
    "                            temp[index,j,:]=real_data[2*j,:]\n",
    "                            j=j+1\n",
    "                        #temp[index,:,:]=real_data\n",
    "                        index=index+1\n",
    "                        \n",
    "                    #print(temp.shape)\n",
    "                    \n",
    "                    #对数组归一化\n",
    "                    max_x = temp[:,:,0].max()\n",
    "                    max_y = temp[:,:,1].max()\n",
    "                    max_z = temp[:,:,2].max()\n",
    "                    min_x = temp[:,:,0].min()\n",
    "                    min_y = temp[:,:,1].min()\n",
    "                    min_z = temp[:,:,2].min()\n",
    "                \n",
    "                    x_len = max_x - min_x\n",
    "                    y_len = max_y - min_y              \n",
    "                    z_len = max_z - min_z\n",
    "                \n",
    "                    x_center = (max_x + min_x)/2\n",
    "                    y_center = (max_y + min_y)/2\n",
    "                    z_center = (max_z + min_z)/2\n",
    "                \n",
    "                    temp[:,:,0]=(temp[:,:,0]-x_center)/y_len\n",
    "                    temp[:,:,1]=(temp[:,:,1]-y_center)/y_len\n",
    "                    temp[:,:,2]=(temp[:,:,2]-z_center)/y_len\n",
    "                    #print(temp[1,:,:])\n",
    "                    np.save(file,temp)"
   ]
  },
  {
   "cell_type": "code",
   "execution_count": null,
   "id": "ecf6778d-ce58-4fdb-ab72-c4f54a336588",
   "metadata": {},
   "outputs": [],
   "source": [
    "main()"
   ]
  }
 ],
 "metadata": {
  "kernelspec": {
   "display_name": "Python 3 (ipykernel)",
   "language": "python",
   "name": "python3"
  },
  "language_info": {
   "codemirror_mode": {
    "name": "ipython",
    "version": 3
   },
   "file_extension": ".py",
   "mimetype": "text/x-python",
   "name": "python",
   "nbconvert_exporter": "python",
   "pygments_lexer": "ipython3",
   "version": "3.8.10"
  }
 },
 "nbformat": 4,
 "nbformat_minor": 5
}
